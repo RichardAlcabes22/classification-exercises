{
 "cells": [
  {
   "cell_type": "code",
   "execution_count": 1,
   "id": "38b5c249",
   "metadata": {},
   "outputs": [],
   "source": [
    "import pandas as pd \n",
    "import sklearn.metrics\n",
    "from sklearn.metrics import confusion_matrix\n",
    "import numpy as np\n",
    "import seaborn as sns\n",
    "import scipy.stats as stats\n",
    "import pandas as pd\n",
    "import matplotlib.pyplot as plt\n",
    "from pydataset import data\n",
    "import env\n",
    "import acquire as acq\n",
    "import prepare as prp\n",
    "from sklearn.model_selection import train_test_split\n",
    "from sklearn.impute import SimpleImputer\n",
    "from sklearn.tree import DecisionTreeClassifier,export_text,plot_tree\n",
    "from sklearn.metrics import accuracy_score, classification_report\n",
    "\n",
    "from sklearn.ensemble import RandomForestClassifier"
   ]
  },
  {
   "cell_type": "code",
   "execution_count": 13,
   "id": "419ac622",
   "metadata": {},
   "outputs": [
    {
     "data": {
      "text/plain": [
       "['pclass',\n",
       " 'age',\n",
       " 'sibsp',\n",
       " 'parch',\n",
       " 'fare',\n",
       " 'alone',\n",
       " 'sex_male',\n",
       " 'embark_town_Queenstown',\n",
       " 'embark_town_Southampton']"
      ]
     },
     "execution_count": 13,
     "metadata": {},
     "output_type": "execute_result"
    }
   ],
   "source": [
    "# load titanic via acquire.py\n",
    "df = acq.get_titanic_data('titanic_db')\n",
    "df = prp.prep_titanic(df)\n",
    "df.head()\n",
    "# Split dataset\n",
    "train, validate, test = prp.split_data(df,'survived')\n",
    "train.shape,validate.shape,test.shape\n",
    "#Determine drivers of target\n",
    "train.columns[:-2]\n",
    "cat_cols, num_cols = [], []\n",
    "for col in train.columns[:-2]:\n",
    "    if train[col].dtype == 'O':\n",
    "        cat_cols.append(col)\n",
    "    else:\n",
    "        if train[col].nunique() < 10:\n",
    "            cat_cols.append(col)\n",
    "        else:\n",
    "            num_cols.append(col)\n",
    "cat_cols,num_cols\n",
    "explore_cols = cat_cols + num_cols\n",
    "explore_cols\n",
    "train.survived.value_counts()\n",
    "train['baseline_pred'] = 0\n",
    "train.head(10)\n",
    "pd.crosstab(train.baseline_pred,train.survived) \n",
    "# Baseline ACCURACY is 61.6%  \n",
    "baseline_acc = (train.baseline_pred == train.survived).mean()\n",
    "baseline_acc\n",
    "X_cols = train.columns.to_list()\n",
    "X_cols.remove('survived')\n",
    "X_cols.remove('baseline_pred')\n",
    "X_cols.remove('sex')\n",
    "X_cols.remove('embark_town')\n",
    "y_cols = 'survived'\n",
    "X_cols"
   ]
  },
  {
   "cell_type": "code",
   "execution_count": 28,
   "id": "8fa486ba",
   "metadata": {},
   "outputs": [],
   "source": [
    "# make the thing\n",
    "rf1 = RandomForestClassifier(random_state=2013,max_depth=10)"
   ]
  },
  {
   "cell_type": "code",
   "execution_count": 29,
   "id": "b40d213e",
   "metadata": {},
   "outputs": [],
   "source": [
    "X_train = train[X_cols]\n",
    "y_train = train[y_cols]"
   ]
  },
  {
   "cell_type": "code",
   "execution_count": 30,
   "id": "79bdff90",
   "metadata": {},
   "outputs": [
    {
     "data": {
      "text/html": [
       "<style>#sk-container-id-3 {color: black;background-color: white;}#sk-container-id-3 pre{padding: 0;}#sk-container-id-3 div.sk-toggleable {background-color: white;}#sk-container-id-3 label.sk-toggleable__label {cursor: pointer;display: block;width: 100%;margin-bottom: 0;padding: 0.3em;box-sizing: border-box;text-align: center;}#sk-container-id-3 label.sk-toggleable__label-arrow:before {content: \"▸\";float: left;margin-right: 0.25em;color: #696969;}#sk-container-id-3 label.sk-toggleable__label-arrow:hover:before {color: black;}#sk-container-id-3 div.sk-estimator:hover label.sk-toggleable__label-arrow:before {color: black;}#sk-container-id-3 div.sk-toggleable__content {max-height: 0;max-width: 0;overflow: hidden;text-align: left;background-color: #f0f8ff;}#sk-container-id-3 div.sk-toggleable__content pre {margin: 0.2em;color: black;border-radius: 0.25em;background-color: #f0f8ff;}#sk-container-id-3 input.sk-toggleable__control:checked~div.sk-toggleable__content {max-height: 200px;max-width: 100%;overflow: auto;}#sk-container-id-3 input.sk-toggleable__control:checked~label.sk-toggleable__label-arrow:before {content: \"▾\";}#sk-container-id-3 div.sk-estimator input.sk-toggleable__control:checked~label.sk-toggleable__label {background-color: #d4ebff;}#sk-container-id-3 div.sk-label input.sk-toggleable__control:checked~label.sk-toggleable__label {background-color: #d4ebff;}#sk-container-id-3 input.sk-hidden--visually {border: 0;clip: rect(1px 1px 1px 1px);clip: rect(1px, 1px, 1px, 1px);height: 1px;margin: -1px;overflow: hidden;padding: 0;position: absolute;width: 1px;}#sk-container-id-3 div.sk-estimator {font-family: monospace;background-color: #f0f8ff;border: 1px dotted black;border-radius: 0.25em;box-sizing: border-box;margin-bottom: 0.5em;}#sk-container-id-3 div.sk-estimator:hover {background-color: #d4ebff;}#sk-container-id-3 div.sk-parallel-item::after {content: \"\";width: 100%;border-bottom: 1px solid gray;flex-grow: 1;}#sk-container-id-3 div.sk-label:hover label.sk-toggleable__label {background-color: #d4ebff;}#sk-container-id-3 div.sk-serial::before {content: \"\";position: absolute;border-left: 1px solid gray;box-sizing: border-box;top: 0;bottom: 0;left: 50%;z-index: 0;}#sk-container-id-3 div.sk-serial {display: flex;flex-direction: column;align-items: center;background-color: white;padding-right: 0.2em;padding-left: 0.2em;position: relative;}#sk-container-id-3 div.sk-item {position: relative;z-index: 1;}#sk-container-id-3 div.sk-parallel {display: flex;align-items: stretch;justify-content: center;background-color: white;position: relative;}#sk-container-id-3 div.sk-item::before, #sk-container-id-3 div.sk-parallel-item::before {content: \"\";position: absolute;border-left: 1px solid gray;box-sizing: border-box;top: 0;bottom: 0;left: 50%;z-index: -1;}#sk-container-id-3 div.sk-parallel-item {display: flex;flex-direction: column;z-index: 1;position: relative;background-color: white;}#sk-container-id-3 div.sk-parallel-item:first-child::after {align-self: flex-end;width: 50%;}#sk-container-id-3 div.sk-parallel-item:last-child::after {align-self: flex-start;width: 50%;}#sk-container-id-3 div.sk-parallel-item:only-child::after {width: 0;}#sk-container-id-3 div.sk-dashed-wrapped {border: 1px dashed gray;margin: 0 0.4em 0.5em 0.4em;box-sizing: border-box;padding-bottom: 0.4em;background-color: white;}#sk-container-id-3 div.sk-label label {font-family: monospace;font-weight: bold;display: inline-block;line-height: 1.2em;}#sk-container-id-3 div.sk-label-container {text-align: center;}#sk-container-id-3 div.sk-container {/* jupyter's `normalize.less` sets `[hidden] { display: none; }` but bootstrap.min.css set `[hidden] { display: none !important; }` so we also need the `!important` here to be able to override the default hidden behavior on the sphinx rendered scikit-learn.org. See: https://github.com/scikit-learn/scikit-learn/issues/21755 */display: inline-block !important;position: relative;}#sk-container-id-3 div.sk-text-repr-fallback {display: none;}</style><div id=\"sk-container-id-3\" class=\"sk-top-container\"><div class=\"sk-text-repr-fallback\"><pre>RandomForestClassifier(max_depth=10, random_state=2013)</pre><b>In a Jupyter environment, please rerun this cell to show the HTML representation or trust the notebook. <br />On GitHub, the HTML representation is unable to render, please try loading this page with nbviewer.org.</b></div><div class=\"sk-container\" hidden><div class=\"sk-item\"><div class=\"sk-estimator sk-toggleable\"><input class=\"sk-toggleable__control sk-hidden--visually\" id=\"sk-estimator-id-3\" type=\"checkbox\" checked><label for=\"sk-estimator-id-3\" class=\"sk-toggleable__label sk-toggleable__label-arrow\">RandomForestClassifier</label><div class=\"sk-toggleable__content\"><pre>RandomForestClassifier(max_depth=10, random_state=2013)</pre></div></div></div></div></div>"
      ],
      "text/plain": [
       "RandomForestClassifier(max_depth=10, random_state=2013)"
      ]
     },
     "execution_count": 30,
     "metadata": {},
     "output_type": "execute_result"
    }
   ],
   "source": [
    "# fit the thing\n",
    "# note: if we narrow down the feature in fit:\n",
    "rf1.fit(X_train, y_train)"
   ]
  },
  {
   "cell_type": "code",
   "execution_count": 31,
   "id": "f6845b33",
   "metadata": {},
   "outputs": [],
   "source": [
    "# use the thing\n",
    "# we need to do it on predict as well!!\n",
    "rf1_preds = rf1.predict(X_train)"
   ]
  },
  {
   "cell_type": "code",
   "execution_count": 32,
   "id": "59cc0d65",
   "metadata": {},
   "outputs": [],
   "source": [
    "# narrow down independent and dependent features with my\n",
    "# lists of features from before\n",
    "X_val, y_val = validate[X_cols], validate[y_cols]"
   ]
  },
  {
   "cell_type": "code",
   "execution_count": 33,
   "id": "60958871",
   "metadata": {},
   "outputs": [
    {
     "name": "stdout",
     "output_type": "stream",
     "text": [
      "\n",
      "Performance in accuracy of Random Forest 1 on training data:\n",
      "Accuracy (train): 0.9618473895582329\n",
      "Accuracy (validate): 0.81\n"
     ]
    }
   ],
   "source": [
    "print(f'''\n",
    "Performance in accuracy of Random Forest 1 on training data:\n",
    "Accuracy (train): {rf1.score(X_train, y_train)}\n",
    "Accuracy (validate): {round(rf1.score(X_val, y_val), 2)}''')"
   ]
  },
  {
   "cell_type": "code",
   "execution_count": 39,
   "id": "d8b0da01",
   "metadata": {},
   "outputs": [
    {
     "data": {
      "text/html": [
       "<div>\n",
       "<style scoped>\n",
       "    .dataframe tbody tr th:only-of-type {\n",
       "        vertical-align: middle;\n",
       "    }\n",
       "\n",
       "    .dataframe tbody tr th {\n",
       "        vertical-align: top;\n",
       "    }\n",
       "\n",
       "    .dataframe thead th {\n",
       "        text-align: right;\n",
       "    }\n",
       "</style>\n",
       "<table border=\"1\" class=\"dataframe\">\n",
       "  <thead>\n",
       "    <tr style=\"text-align: right;\">\n",
       "      <th></th>\n",
       "      <th>0</th>\n",
       "      <th>1</th>\n",
       "      <th>accuracy</th>\n",
       "      <th>macro avg</th>\n",
       "      <th>weighted avg</th>\n",
       "    </tr>\n",
       "  </thead>\n",
       "  <tbody>\n",
       "    <tr>\n",
       "      <th>precision</th>\n",
       "      <td>0.947205</td>\n",
       "      <td>0.988636</td>\n",
       "      <td>0.961847</td>\n",
       "      <td>0.967921</td>\n",
       "      <td>0.963095</td>\n",
       "    </tr>\n",
       "    <tr>\n",
       "      <th>recall</th>\n",
       "      <td>0.993485</td>\n",
       "      <td>0.910995</td>\n",
       "      <td>0.961847</td>\n",
       "      <td>0.952240</td>\n",
       "      <td>0.961847</td>\n",
       "    </tr>\n",
       "    <tr>\n",
       "      <th>f1-score</th>\n",
       "      <td>0.969793</td>\n",
       "      <td>0.948229</td>\n",
       "      <td>0.961847</td>\n",
       "      <td>0.959011</td>\n",
       "      <td>0.961523</td>\n",
       "    </tr>\n",
       "    <tr>\n",
       "      <th>support</th>\n",
       "      <td>307.000000</td>\n",
       "      <td>191.000000</td>\n",
       "      <td>0.961847</td>\n",
       "      <td>498.000000</td>\n",
       "      <td>498.000000</td>\n",
       "    </tr>\n",
       "  </tbody>\n",
       "</table>\n",
       "</div>"
      ],
      "text/plain": [
       "                    0           1  accuracy   macro avg  weighted avg\n",
       "precision    0.947205    0.988636  0.961847    0.967921      0.963095\n",
       "recall       0.993485    0.910995  0.961847    0.952240      0.961847\n",
       "f1-score     0.969793    0.948229  0.961847    0.959011      0.961523\n",
       "support    307.000000  191.000000  0.961847  498.000000    498.000000"
      ]
     },
     "execution_count": 39,
     "metadata": {},
     "output_type": "execute_result"
    }
   ],
   "source": [
    "# RandForest classification report:\n",
    "pd.DataFrame(classification_report(y_train, rf1_preds, output_dict=True))"
   ]
  },
  {
   "cell_type": "code",
   "execution_count": 42,
   "id": "a3aec494",
   "metadata": {},
   "outputs": [
    {
     "data": {
      "text/html": [
       "<div>\n",
       "<style scoped>\n",
       "    .dataframe tbody tr th:only-of-type {\n",
       "        vertical-align: middle;\n",
       "    }\n",
       "\n",
       "    .dataframe tbody tr th {\n",
       "        vertical-align: top;\n",
       "    }\n",
       "\n",
       "    .dataframe thead th {\n",
       "        text-align: right;\n",
       "    }\n",
       "</style>\n",
       "<table border=\"1\" class=\"dataframe\">\n",
       "  <thead>\n",
       "    <tr style=\"text-align: right;\">\n",
       "      <th>survived</th>\n",
       "      <th>0</th>\n",
       "      <th>1</th>\n",
       "    </tr>\n",
       "    <tr>\n",
       "      <th>row_0</th>\n",
       "      <th></th>\n",
       "      <th></th>\n",
       "    </tr>\n",
       "  </thead>\n",
       "  <tbody>\n",
       "    <tr>\n",
       "      <th>0</th>\n",
       "      <td>305</td>\n",
       "      <td>17</td>\n",
       "    </tr>\n",
       "    <tr>\n",
       "      <th>1</th>\n",
       "      <td>2</td>\n",
       "      <td>174</td>\n",
       "    </tr>\n",
       "  </tbody>\n",
       "</table>\n",
       "</div>"
      ],
      "text/plain": [
       "survived    0    1\n",
       "row_0             \n",
       "0         305   17\n",
       "1           2  174"
      ]
     },
     "execution_count": 42,
     "metadata": {},
     "output_type": "execute_result"
    }
   ],
   "source": [
    "pd.crosstab(rf1_preds,train[y_cols])\n",
    "\n",
    "TP = 305\n",
    "FP = 17\n",
    "FN = 2\n",
    "TN = 174\n",
    "pd.crosstab(rf1_preds,train[y_cols])"
   ]
  },
  {
   "cell_type": "code",
   "execution_count": null,
   "id": "894a786f",
   "metadata": {},
   "outputs": [],
   "source": [
    "# Not needed yet, but just want to see the dropoff when looking at validate..."
   ]
  },
  {
   "cell_type": "code",
   "execution_count": 35,
   "id": "b8b82f06",
   "metadata": {},
   "outputs": [],
   "source": [
    "validate_pred = rf1.predict(X_val)"
   ]
  },
  {
   "cell_type": "code",
   "execution_count": 36,
   "id": "f8132f7a",
   "metadata": {
    "scrolled": true
   },
   "outputs": [
    {
     "data": {
      "text/html": [
       "<div>\n",
       "<style scoped>\n",
       "    .dataframe tbody tr th:only-of-type {\n",
       "        vertical-align: middle;\n",
       "    }\n",
       "\n",
       "    .dataframe tbody tr th {\n",
       "        vertical-align: top;\n",
       "    }\n",
       "\n",
       "    .dataframe thead th {\n",
       "        text-align: right;\n",
       "    }\n",
       "</style>\n",
       "<table border=\"1\" class=\"dataframe\">\n",
       "  <thead>\n",
       "    <tr style=\"text-align: right;\">\n",
       "      <th></th>\n",
       "      <th>0</th>\n",
       "      <th>1</th>\n",
       "      <th>accuracy</th>\n",
       "      <th>macro avg</th>\n",
       "      <th>weighted avg</th>\n",
       "    </tr>\n",
       "  </thead>\n",
       "  <tbody>\n",
       "    <tr>\n",
       "      <th>precision</th>\n",
       "      <td>0.837037</td>\n",
       "      <td>0.759494</td>\n",
       "      <td>0.808411</td>\n",
       "      <td>0.798265</td>\n",
       "      <td>0.807324</td>\n",
       "    </tr>\n",
       "    <tr>\n",
       "      <th>recall</th>\n",
       "      <td>0.856061</td>\n",
       "      <td>0.731707</td>\n",
       "      <td>0.808411</td>\n",
       "      <td>0.793884</td>\n",
       "      <td>0.808411</td>\n",
       "    </tr>\n",
       "    <tr>\n",
       "      <th>f1-score</th>\n",
       "      <td>0.846442</td>\n",
       "      <td>0.745342</td>\n",
       "      <td>0.808411</td>\n",
       "      <td>0.795892</td>\n",
       "      <td>0.807703</td>\n",
       "    </tr>\n",
       "    <tr>\n",
       "      <th>support</th>\n",
       "      <td>132.000000</td>\n",
       "      <td>82.000000</td>\n",
       "      <td>0.808411</td>\n",
       "      <td>214.000000</td>\n",
       "      <td>214.000000</td>\n",
       "    </tr>\n",
       "  </tbody>\n",
       "</table>\n",
       "</div>"
      ],
      "text/plain": [
       "                    0          1  accuracy   macro avg  weighted avg\n",
       "precision    0.837037   0.759494  0.808411    0.798265      0.807324\n",
       "recall       0.856061   0.731707  0.808411    0.793884      0.808411\n",
       "f1-score     0.846442   0.745342  0.808411    0.795892      0.807703\n",
       "support    132.000000  82.000000  0.808411  214.000000    214.000000"
      ]
     },
     "execution_count": 36,
     "metadata": {},
     "output_type": "execute_result"
    }
   ],
   "source": [
    "# RandForest classification report:\n",
    "pd.DataFrame(classification_report(y_val, validate_pred, output_dict=True))"
   ]
  },
  {
   "cell_type": "code",
   "execution_count": 40,
   "id": "c1524c41",
   "metadata": {
    "scrolled": true
   },
   "outputs": [
    {
     "data": {
      "text/html": [
       "<div>\n",
       "<style scoped>\n",
       "    .dataframe tbody tr th:only-of-type {\n",
       "        vertical-align: middle;\n",
       "    }\n",
       "\n",
       "    .dataframe tbody tr th {\n",
       "        vertical-align: top;\n",
       "    }\n",
       "\n",
       "    .dataframe thead th {\n",
       "        text-align: right;\n",
       "    }\n",
       "</style>\n",
       "<table border=\"1\" class=\"dataframe\">\n",
       "  <thead>\n",
       "    <tr style=\"text-align: right;\">\n",
       "      <th>survived</th>\n",
       "      <th>0</th>\n",
       "      <th>1</th>\n",
       "    </tr>\n",
       "    <tr>\n",
       "      <th>row_0</th>\n",
       "      <th></th>\n",
       "      <th></th>\n",
       "    </tr>\n",
       "  </thead>\n",
       "  <tbody>\n",
       "    <tr>\n",
       "      <th>0</th>\n",
       "      <td>113</td>\n",
       "      <td>22</td>\n",
       "    </tr>\n",
       "    <tr>\n",
       "      <th>1</th>\n",
       "      <td>19</td>\n",
       "      <td>60</td>\n",
       "    </tr>\n",
       "  </tbody>\n",
       "</table>\n",
       "</div>"
      ],
      "text/plain": [
       "survived    0   1\n",
       "row_0            \n",
       "0         113  22\n",
       "1          19  60"
      ]
     },
     "execution_count": 40,
     "metadata": {},
     "output_type": "execute_result"
    }
   ],
   "source": [
    "pd.crosstab(validate_pred,validate[y_cols])"
   ]
  },
  {
   "cell_type": "code",
   "execution_count": null,
   "id": "131bb559",
   "metadata": {},
   "outputs": [],
   "source": []
  },
  {
   "cell_type": "code",
   "execution_count": 43,
   "id": "62abcffa",
   "metadata": {},
   "outputs": [
    {
     "data": {
      "text/html": [
       "<div>\n",
       "<style scoped>\n",
       "    .dataframe tbody tr th:only-of-type {\n",
       "        vertical-align: middle;\n",
       "    }\n",
       "\n",
       "    .dataframe tbody tr th {\n",
       "        vertical-align: top;\n",
       "    }\n",
       "\n",
       "    .dataframe thead th {\n",
       "        text-align: right;\n",
       "    }\n",
       "</style>\n",
       "<table border=\"1\" class=\"dataframe\">\n",
       "  <thead>\n",
       "    <tr style=\"text-align: right;\">\n",
       "      <th>survived</th>\n",
       "      <th>0</th>\n",
       "      <th>1</th>\n",
       "    </tr>\n",
       "    <tr>\n",
       "      <th>row_0</th>\n",
       "      <th></th>\n",
       "      <th></th>\n",
       "    </tr>\n",
       "  </thead>\n",
       "  <tbody>\n",
       "    <tr>\n",
       "      <th>0</th>\n",
       "      <td>305</td>\n",
       "      <td>17</td>\n",
       "    </tr>\n",
       "    <tr>\n",
       "      <th>1</th>\n",
       "      <td>2</td>\n",
       "      <td>174</td>\n",
       "    </tr>\n",
       "  </tbody>\n",
       "</table>\n",
       "</div>"
      ],
      "text/plain": [
       "survived    0    1\n",
       "row_0             \n",
       "0         305   17\n",
       "1           2  174"
      ]
     },
     "execution_count": 43,
     "metadata": {},
     "output_type": "execute_result"
    }
   ],
   "source": [
    "## ok, back to TRAIN data...\n",
    "pd.crosstab(rf1_preds,train[y_cols])"
   ]
  },
  {
   "cell_type": "code",
   "execution_count": 45,
   "id": "49ac66f9",
   "metadata": {},
   "outputs": [
    {
     "data": {
      "text/html": [
       "<div>\n",
       "<style scoped>\n",
       "    .dataframe tbody tr th:only-of-type {\n",
       "        vertical-align: middle;\n",
       "    }\n",
       "\n",
       "    .dataframe tbody tr th {\n",
       "        vertical-align: top;\n",
       "    }\n",
       "\n",
       "    .dataframe thead th {\n",
       "        text-align: right;\n",
       "    }\n",
       "</style>\n",
       "<table border=\"1\" class=\"dataframe\">\n",
       "  <thead>\n",
       "    <tr style=\"text-align: right;\">\n",
       "      <th></th>\n",
       "      <th>0</th>\n",
       "      <th>1</th>\n",
       "      <th>accuracy</th>\n",
       "      <th>macro avg</th>\n",
       "      <th>weighted avg</th>\n",
       "    </tr>\n",
       "  </thead>\n",
       "  <tbody>\n",
       "    <tr>\n",
       "      <th>precision</th>\n",
       "      <td>0.947205</td>\n",
       "      <td>0.988636</td>\n",
       "      <td>0.961847</td>\n",
       "      <td>0.967921</td>\n",
       "      <td>0.963095</td>\n",
       "    </tr>\n",
       "    <tr>\n",
       "      <th>recall</th>\n",
       "      <td>0.993485</td>\n",
       "      <td>0.910995</td>\n",
       "      <td>0.961847</td>\n",
       "      <td>0.952240</td>\n",
       "      <td>0.961847</td>\n",
       "    </tr>\n",
       "    <tr>\n",
       "      <th>f1-score</th>\n",
       "      <td>0.969793</td>\n",
       "      <td>0.948229</td>\n",
       "      <td>0.961847</td>\n",
       "      <td>0.959011</td>\n",
       "      <td>0.961523</td>\n",
       "    </tr>\n",
       "    <tr>\n",
       "      <th>support</th>\n",
       "      <td>307.000000</td>\n",
       "      <td>191.000000</td>\n",
       "      <td>0.961847</td>\n",
       "      <td>498.000000</td>\n",
       "      <td>498.000000</td>\n",
       "    </tr>\n",
       "  </tbody>\n",
       "</table>\n",
       "</div>"
      ],
      "text/plain": [
       "                    0           1  accuracy   macro avg  weighted avg\n",
       "precision    0.947205    0.988636  0.961847    0.967921      0.963095\n",
       "recall       0.993485    0.910995  0.961847    0.952240      0.961847\n",
       "f1-score     0.969793    0.948229  0.961847    0.959011      0.961523\n",
       "support    307.000000  191.000000  0.961847  498.000000    498.000000"
      ]
     },
     "execution_count": 45,
     "metadata": {},
     "output_type": "execute_result"
    }
   ],
   "source": [
    "pd.DataFrame(classification_report(y_train, rf1_preds, output_dict=True))"
   ]
  },
  {
   "cell_type": "markdown",
   "id": "602e171e",
   "metadata": {},
   "source": [
    "####  TRAIN ACCURACY-TPR(recall for 1)-FPR()-TNR()-FNR()-PRECISION (for 1)-RECALL (for 1)-F1, Support"
   ]
  },
  {
   "cell_type": "code",
   "execution_count": 44,
   "id": "4a83ca7f",
   "metadata": {},
   "outputs": [
    {
     "data": {
      "text/plain": [
       "0.9618473895582329"
      ]
     },
     "execution_count": 44,
     "metadata": {},
     "output_type": "execute_result"
    }
   ],
   "source": [
    "sklearn.metrics.accuracy_score(train[y_cols],rf1_preds)"
   ]
  },
  {
   "cell_type": "code",
   "execution_count": 48,
   "id": "542fdaad",
   "metadata": {},
   "outputs": [
    {
     "data": {
      "text/plain": [
       "0.9109947643979057"
      ]
     },
     "execution_count": 48,
     "metadata": {},
     "output_type": "execute_result"
    }
   ],
   "source": [
    "# TPR == Recall\n",
    "sklearn.metrics.recall_score(train[y_cols],rf1_preds)"
   ]
  },
  {
   "cell_type": "code",
   "execution_count": 49,
   "id": "89d2755d",
   "metadata": {},
   "outputs": [
    {
     "data": {
      "text/plain": [
       "0.08900523560209424"
      ]
     },
     "execution_count": 49,
     "metadata": {},
     "output_type": "execute_result"
    }
   ],
   "source": [
    "# FalsePosRate FP / (FP + TN) ...also, this is  1 - Recall for case of 'survived'\n",
    "\n",
    "FP / (FP+TN)"
   ]
  },
  {
   "cell_type": "code",
   "execution_count": 50,
   "id": "a7188e4c",
   "metadata": {},
   "outputs": [
    {
     "data": {
      "text/plain": [
       "0.9109947643979057"
      ]
     },
     "execution_count": 50,
     "metadata": {},
     "output_type": "execute_result"
    }
   ],
   "source": [
    "# TrueNegRate\n",
    "1 - (FP / (FP+TN))"
   ]
  },
  {
   "cell_type": "code",
   "execution_count": 52,
   "id": "a9ad952f",
   "metadata": {},
   "outputs": [
    {
     "data": {
      "text/plain": [
       "0.08900523560209428"
      ]
     },
     "execution_count": 52,
     "metadata": {},
     "output_type": "execute_result"
    }
   ],
   "source": [
    "# FalseNegRate FN / (TP+FP)  1- recall\n",
    "\n",
    "1 - (sklearn.metrics.recall_score(train[y_cols],rf1_preds))"
   ]
  },
  {
   "cell_type": "code",
   "execution_count": 53,
   "id": "4cec1f40",
   "metadata": {},
   "outputs": [
    {
     "data": {
      "text/plain": [
       "0.9886363636363636"
      ]
     },
     "execution_count": 53,
     "metadata": {},
     "output_type": "execute_result"
    }
   ],
   "source": [
    "sklearn.metrics.precision_score(train[y_cols],rf1_preds)"
   ]
  },
  {
   "cell_type": "code",
   "execution_count": 54,
   "id": "3cb2f3ff",
   "metadata": {},
   "outputs": [
    {
     "data": {
      "text/plain": [
       "0.9109947643979057"
      ]
     },
     "execution_count": 54,
     "metadata": {},
     "output_type": "execute_result"
    }
   ],
   "source": [
    "sklearn.metrics.recall_score(train[y_cols],rf1_preds)"
   ]
  },
  {
   "cell_type": "code",
   "execution_count": 55,
   "id": "17320d4d",
   "metadata": {},
   "outputs": [
    {
     "data": {
      "text/plain": [
       "0.9482288828337875"
      ]
     },
     "execution_count": 55,
     "metadata": {},
     "output_type": "execute_result"
    }
   ],
   "source": [
    "sklearn.metrics.f1_score(train[y_cols],rf1_preds)"
   ]
  },
  {
   "cell_type": "code",
   "execution_count": 56,
   "id": "0d51ce9b",
   "metadata": {},
   "outputs": [
    {
     "name": "stdout",
     "output_type": "stream",
     "text": [
      "              precision    recall  f1-score   support\n",
      "\n",
      "           0       0.95      0.99      0.97       307\n",
      "           1       0.99      0.91      0.95       191\n",
      "\n",
      "    accuracy                           0.96       498\n",
      "   macro avg       0.97      0.95      0.96       498\n",
      "weighted avg       0.96      0.96      0.96       498\n",
      "\n"
     ]
    }
   ],
   "source": [
    "print(\n",
    "    classification_report(train[y_cols],\n",
    "                      rf1_preds))"
   ]
  },
  {
   "cell_type": "code",
   "execution_count": 57,
   "id": "a25f9856",
   "metadata": {},
   "outputs": [
    {
     "name": "stdout",
     "output_type": "stream",
     "text": [
      "\n",
      "Performance in accuracy of Random Forest 1 on training data:\n",
      "Accuracy (train): 0.8855421686746988\n",
      "Accuracy (validate): 0.79\n"
     ]
    }
   ],
   "source": [
    "# make the thing\n",
    "rf2 = RandomForestClassifier(random_state=2013,max_depth=10,min_samples_leaf=5)\n",
    "X_train = train[X_cols]\n",
    "y_train = train[y_cols]\n",
    "# fit the thing\n",
    "# note: if we narrow down the feature in fit:\n",
    "rf2.fit(X_train, y_train)\n",
    "# use the thing\n",
    "# we need to do it on predict as well!!\n",
    "rf2_preds = rf2.predict(X_train)\n",
    "# lists of features from before\n",
    "X_val, y_val = validate[X_cols], validate[y_cols]\n",
    "print(f'''\n",
    "Performance in accuracy of Random Forest 1 on training data:\n",
    "Accuracy (train): {rf2.score(X_train, y_train)}\n",
    "Accuracy (validate): {round(rf2.score(X_val, y_val), 2)}''')"
   ]
  },
  {
   "cell_type": "code",
   "execution_count": 61,
   "id": "922b799a",
   "metadata": {
    "scrolled": true
   },
   "outputs": [
    {
     "data": {
      "text/html": [
       "<div>\n",
       "<style scoped>\n",
       "    .dataframe tbody tr th:only-of-type {\n",
       "        vertical-align: middle;\n",
       "    }\n",
       "\n",
       "    .dataframe tbody tr th {\n",
       "        vertical-align: top;\n",
       "    }\n",
       "\n",
       "    .dataframe thead th {\n",
       "        text-align: right;\n",
       "    }\n",
       "</style>\n",
       "<table border=\"1\" class=\"dataframe\">\n",
       "  <thead>\n",
       "    <tr style=\"text-align: right;\">\n",
       "      <th></th>\n",
       "      <th>0</th>\n",
       "      <th>1</th>\n",
       "      <th>accuracy</th>\n",
       "      <th>macro avg</th>\n",
       "      <th>weighted avg</th>\n",
       "    </tr>\n",
       "  </thead>\n",
       "  <tbody>\n",
       "    <tr>\n",
       "      <th>precision</th>\n",
       "      <td>0.872024</td>\n",
       "      <td>0.913580</td>\n",
       "      <td>0.885542</td>\n",
       "      <td>0.892802</td>\n",
       "      <td>0.887962</td>\n",
       "    </tr>\n",
       "    <tr>\n",
       "      <th>recall</th>\n",
       "      <td>0.954397</td>\n",
       "      <td>0.774869</td>\n",
       "      <td>0.885542</td>\n",
       "      <td>0.864633</td>\n",
       "      <td>0.885542</td>\n",
       "    </tr>\n",
       "    <tr>\n",
       "      <th>f1-score</th>\n",
       "      <td>0.911353</td>\n",
       "      <td>0.838527</td>\n",
       "      <td>0.885542</td>\n",
       "      <td>0.874940</td>\n",
       "      <td>0.883422</td>\n",
       "    </tr>\n",
       "    <tr>\n",
       "      <th>support</th>\n",
       "      <td>307.000000</td>\n",
       "      <td>191.000000</td>\n",
       "      <td>0.885542</td>\n",
       "      <td>498.000000</td>\n",
       "      <td>498.000000</td>\n",
       "    </tr>\n",
       "  </tbody>\n",
       "</table>\n",
       "</div>"
      ],
      "text/plain": [
       "                    0           1  accuracy   macro avg  weighted avg\n",
       "precision    0.872024    0.913580  0.885542    0.892802      0.887962\n",
       "recall       0.954397    0.774869  0.885542    0.864633      0.885542\n",
       "f1-score     0.911353    0.838527  0.885542    0.874940      0.883422\n",
       "support    307.000000  191.000000  0.885542  498.000000    498.000000"
      ]
     },
     "execution_count": 61,
     "metadata": {},
     "output_type": "execute_result"
    }
   ],
   "source": [
    "# pd.crosstab(rf1_preds,train[y_cols])\n",
    "# RandForest classification report:\n",
    "pd.DataFrame(classification_report(y_train, rf2_preds, output_dict=True))"
   ]
  },
  {
   "cell_type": "code",
   "execution_count": 62,
   "id": "e074a663",
   "metadata": {},
   "outputs": [
    {
     "name": "stdout",
     "output_type": "stream",
     "text": [
      "\n",
      "Performance in accuracy of Random Forest 1 on training data:\n",
      "Accuracy (train): 0.8393574297188755\n",
      "Accuracy (validate): 0.79\n"
     ]
    }
   ],
   "source": [
    "# make the thing\n",
    "rf3 = RandomForestClassifier(random_state=2013,max_depth=7,min_samples_leaf=11)\n",
    "X_train = train[X_cols]\n",
    "y_train = train[y_cols]\n",
    "# fit the thing\n",
    "# note: if we narrow down the feature in fit:\n",
    "rf3.fit(X_train, y_train)\n",
    "# use the thing\n",
    "# we need to do it on predict as well!!\n",
    "rf3_preds = rf3.predict(X_train)\n",
    "# lists of features from before\n",
    "X_val, y_val = validate[X_cols], validate[y_cols]\n",
    "print(f'''\n",
    "Performance in accuracy of Random Forest 1 on training data:\n",
    "Accuracy (train): {rf3.score(X_train, y_train)}\n",
    "Accuracy (validate): {round(rf3.score(X_val, y_val), 2)}''')"
   ]
  },
  {
   "cell_type": "code",
   "execution_count": 63,
   "id": "2a4f5bce",
   "metadata": {
    "scrolled": true
   },
   "outputs": [
    {
     "data": {
      "text/html": [
       "<div>\n",
       "<style scoped>\n",
       "    .dataframe tbody tr th:only-of-type {\n",
       "        vertical-align: middle;\n",
       "    }\n",
       "\n",
       "    .dataframe tbody tr th {\n",
       "        vertical-align: top;\n",
       "    }\n",
       "\n",
       "    .dataframe thead th {\n",
       "        text-align: right;\n",
       "    }\n",
       "</style>\n",
       "<table border=\"1\" class=\"dataframe\">\n",
       "  <thead>\n",
       "    <tr style=\"text-align: right;\">\n",
       "      <th></th>\n",
       "      <th>0</th>\n",
       "      <th>1</th>\n",
       "      <th>accuracy</th>\n",
       "      <th>macro avg</th>\n",
       "      <th>weighted avg</th>\n",
       "    </tr>\n",
       "  </thead>\n",
       "  <tbody>\n",
       "    <tr>\n",
       "      <th>precision</th>\n",
       "      <td>0.821530</td>\n",
       "      <td>0.882759</td>\n",
       "      <td>0.839357</td>\n",
       "      <td>0.852144</td>\n",
       "      <td>0.845013</td>\n",
       "    </tr>\n",
       "    <tr>\n",
       "      <th>recall</th>\n",
       "      <td>0.944625</td>\n",
       "      <td>0.670157</td>\n",
       "      <td>0.839357</td>\n",
       "      <td>0.807391</td>\n",
       "      <td>0.839357</td>\n",
       "    </tr>\n",
       "    <tr>\n",
       "      <th>f1-score</th>\n",
       "      <td>0.878788</td>\n",
       "      <td>0.761905</td>\n",
       "      <td>0.839357</td>\n",
       "      <td>0.820346</td>\n",
       "      <td>0.833959</td>\n",
       "    </tr>\n",
       "    <tr>\n",
       "      <th>support</th>\n",
       "      <td>307.000000</td>\n",
       "      <td>191.000000</td>\n",
       "      <td>0.839357</td>\n",
       "      <td>498.000000</td>\n",
       "      <td>498.000000</td>\n",
       "    </tr>\n",
       "  </tbody>\n",
       "</table>\n",
       "</div>"
      ],
      "text/plain": [
       "                    0           1  accuracy   macro avg  weighted avg\n",
       "precision    0.821530    0.882759  0.839357    0.852144      0.845013\n",
       "recall       0.944625    0.670157  0.839357    0.807391      0.839357\n",
       "f1-score     0.878788    0.761905  0.839357    0.820346      0.833959\n",
       "support    307.000000  191.000000  0.839357  498.000000    498.000000"
      ]
     },
     "execution_count": 63,
     "metadata": {},
     "output_type": "execute_result"
    }
   ],
   "source": [
    "# pd.crosstab(rf1_preds,train[y_cols])\n",
    "# RandForest classification report:\n",
    "pd.DataFrame(classification_report(y_train, rf3_preds, output_dict=True))"
   ]
  },
  {
   "cell_type": "code",
   "execution_count": 64,
   "id": "842ef8fb",
   "metadata": {},
   "outputs": [
    {
     "name": "stdout",
     "output_type": "stream",
     "text": [
      "\n",
      "Performance in accuracy of Random Forest 1 on training data:\n",
      "Accuracy (train): 0.8172690763052208\n",
      "Accuracy (validate): 0.79\n"
     ]
    }
   ],
   "source": [
    "# make the thing\n",
    "rf4 = RandomForestClassifier(random_state=2013,max_depth=5,min_samples_leaf=25)\n",
    "X_train = train[X_cols]\n",
    "y_train = train[y_cols]\n",
    "# fit the thing\n",
    "# note: if we narrow down the feature in fit:\n",
    "rf4.fit(X_train, y_train)\n",
    "# use the thing\n",
    "# we need to do it on predict as well!!\n",
    "rf4_preds = rf4.predict(X_train)\n",
    "# lists of features from before\n",
    "X_val, y_val = validate[X_cols], validate[y_cols]\n",
    "print(f'''\n",
    "Performance in accuracy of Random Forest 1 on training data:\n",
    "Accuracy (train): {rf4.score(X_train, y_train)}\n",
    "Accuracy (validate): {round(rf4.score(X_val, y_val), 2)}''')"
   ]
  },
  {
   "cell_type": "code",
   "execution_count": 65,
   "id": "b032bd81",
   "metadata": {
    "scrolled": true
   },
   "outputs": [
    {
     "data": {
      "text/html": [
       "<div>\n",
       "<style scoped>\n",
       "    .dataframe tbody tr th:only-of-type {\n",
       "        vertical-align: middle;\n",
       "    }\n",
       "\n",
       "    .dataframe tbody tr th {\n",
       "        vertical-align: top;\n",
       "    }\n",
       "\n",
       "    .dataframe thead th {\n",
       "        text-align: right;\n",
       "    }\n",
       "</style>\n",
       "<table border=\"1\" class=\"dataframe\">\n",
       "  <thead>\n",
       "    <tr style=\"text-align: right;\">\n",
       "      <th></th>\n",
       "      <th>0</th>\n",
       "      <th>1</th>\n",
       "      <th>accuracy</th>\n",
       "      <th>macro avg</th>\n",
       "      <th>weighted avg</th>\n",
       "    </tr>\n",
       "  </thead>\n",
       "  <tbody>\n",
       "    <tr>\n",
       "      <th>precision</th>\n",
       "      <td>0.790323</td>\n",
       "      <td>0.896825</td>\n",
       "      <td>0.817269</td>\n",
       "      <td>0.843574</td>\n",
       "      <td>0.831170</td>\n",
       "    </tr>\n",
       "    <tr>\n",
       "      <th>recall</th>\n",
       "      <td>0.957655</td>\n",
       "      <td>0.591623</td>\n",
       "      <td>0.817269</td>\n",
       "      <td>0.774639</td>\n",
       "      <td>0.817269</td>\n",
       "    </tr>\n",
       "    <tr>\n",
       "      <th>f1-score</th>\n",
       "      <td>0.865979</td>\n",
       "      <td>0.712934</td>\n",
       "      <td>0.817269</td>\n",
       "      <td>0.789457</td>\n",
       "      <td>0.807281</td>\n",
       "    </tr>\n",
       "    <tr>\n",
       "      <th>support</th>\n",
       "      <td>307.000000</td>\n",
       "      <td>191.000000</td>\n",
       "      <td>0.817269</td>\n",
       "      <td>498.000000</td>\n",
       "      <td>498.000000</td>\n",
       "    </tr>\n",
       "  </tbody>\n",
       "</table>\n",
       "</div>"
      ],
      "text/plain": [
       "                    0           1  accuracy   macro avg  weighted avg\n",
       "precision    0.790323    0.896825  0.817269    0.843574      0.831170\n",
       "recall       0.957655    0.591623  0.817269    0.774639      0.817269\n",
       "f1-score     0.865979    0.712934  0.817269    0.789457      0.807281\n",
       "support    307.000000  191.000000  0.817269  498.000000    498.000000"
      ]
     },
     "execution_count": 65,
     "metadata": {},
     "output_type": "execute_result"
    }
   ],
   "source": [
    "# pd.crosstab(rf1_preds,train[y_cols])\n",
    "# RandForest classification report:\n",
    "pd.DataFrame(classification_report(y_train, rf4_preds, output_dict=True))"
   ]
  },
  {
   "cell_type": "code",
   "execution_count": 66,
   "id": "1a926a7b",
   "metadata": {},
   "outputs": [
    {
     "name": "stdout",
     "output_type": "stream",
     "text": [
      "\n",
      "Performance in accuracy of Random Forest 1 on training data:\n",
      "Accuracy (train): 0.7751004016064257\n",
      "Accuracy (validate): 0.77\n"
     ]
    }
   ],
   "source": [
    "# make the thing\n",
    "rf5 = RandomForestClassifier(random_state=2013,max_depth=2,min_samples_leaf=45)\n",
    "X_train = train[X_cols]\n",
    "y_train = train[y_cols]\n",
    "# fit the thing\n",
    "# note: if we narrow down the feature in fit:\n",
    "rf5.fit(X_train, y_train)\n",
    "# use the thing\n",
    "# we need to do it on predict as well!!\n",
    "rf5_preds = rf5.predict(X_train)\n",
    "# lists of features from before\n",
    "X_val, y_val = validate[X_cols], validate[y_cols]\n",
    "print(f'''\n",
    "Performance in accuracy of Random Forest 1 on training data:\n",
    "Accuracy (train): {rf5.score(X_train, y_train)}\n",
    "Accuracy (validate): {round(rf5.score(X_val, y_val), 2)}''')\n",
    "\n",
    "\n",
    "### POSSIBLE UNDERFIT?"
   ]
  },
  {
   "cell_type": "code",
   "execution_count": 67,
   "id": "f0694469",
   "metadata": {
    "scrolled": true
   },
   "outputs": [
    {
     "data": {
      "text/html": [
       "<div>\n",
       "<style scoped>\n",
       "    .dataframe tbody tr th:only-of-type {\n",
       "        vertical-align: middle;\n",
       "    }\n",
       "\n",
       "    .dataframe tbody tr th {\n",
       "        vertical-align: top;\n",
       "    }\n",
       "\n",
       "    .dataframe thead th {\n",
       "        text-align: right;\n",
       "    }\n",
       "</style>\n",
       "<table border=\"1\" class=\"dataframe\">\n",
       "  <thead>\n",
       "    <tr style=\"text-align: right;\">\n",
       "      <th></th>\n",
       "      <th>0</th>\n",
       "      <th>1</th>\n",
       "      <th>accuracy</th>\n",
       "      <th>macro avg</th>\n",
       "      <th>weighted avg</th>\n",
       "    </tr>\n",
       "  </thead>\n",
       "  <tbody>\n",
       "    <tr>\n",
       "      <th>precision</th>\n",
       "      <td>0.764228</td>\n",
       "      <td>0.806202</td>\n",
       "      <td>0.7751</td>\n",
       "      <td>0.785215</td>\n",
       "      <td>0.780326</td>\n",
       "    </tr>\n",
       "    <tr>\n",
       "      <th>recall</th>\n",
       "      <td>0.918567</td>\n",
       "      <td>0.544503</td>\n",
       "      <td>0.7751</td>\n",
       "      <td>0.731535</td>\n",
       "      <td>0.775100</td>\n",
       "    </tr>\n",
       "    <tr>\n",
       "      <th>f1-score</th>\n",
       "      <td>0.834320</td>\n",
       "      <td>0.650000</td>\n",
       "      <td>0.7751</td>\n",
       "      <td>0.742160</td>\n",
       "      <td>0.763627</td>\n",
       "    </tr>\n",
       "    <tr>\n",
       "      <th>support</th>\n",
       "      <td>307.000000</td>\n",
       "      <td>191.000000</td>\n",
       "      <td>0.7751</td>\n",
       "      <td>498.000000</td>\n",
       "      <td>498.000000</td>\n",
       "    </tr>\n",
       "  </tbody>\n",
       "</table>\n",
       "</div>"
      ],
      "text/plain": [
       "                    0           1  accuracy   macro avg  weighted avg\n",
       "precision    0.764228    0.806202    0.7751    0.785215      0.780326\n",
       "recall       0.918567    0.544503    0.7751    0.731535      0.775100\n",
       "f1-score     0.834320    0.650000    0.7751    0.742160      0.763627\n",
       "support    307.000000  191.000000    0.7751  498.000000    498.000000"
      ]
     },
     "execution_count": 67,
     "metadata": {},
     "output_type": "execute_result"
    }
   ],
   "source": [
    "# pd.crosstab(rf1_preds,train[y_cols])\n",
    "# RandForest classification report:\n",
    "pd.DataFrame(classification_report(y_train, rf5_preds, output_dict=True))"
   ]
  },
  {
   "cell_type": "markdown",
   "id": "403341f4",
   "metadata": {},
   "source": [
    "RANDOPM FOREST 1 perform s best on the TRAIN set at 96.1% because it is not limited by min_samples per leaf or a low max_depth number...however it shows the gretaes dropoff when compared to validation numbers...it is severly OVERFIT"
   ]
  },
  {
   "cell_type": "code",
   "execution_count": null,
   "id": "91888ca6",
   "metadata": {},
   "outputs": [],
   "source": []
  },
  {
   "cell_type": "code",
   "execution_count": null,
   "id": "741a3a3d",
   "metadata": {},
   "outputs": [],
   "source": []
  },
  {
   "cell_type": "code",
   "execution_count": null,
   "id": "be18ada7",
   "metadata": {},
   "outputs": [],
   "source": []
  },
  {
   "cell_type": "code",
   "execution_count": null,
   "id": "0587f1e6",
   "metadata": {},
   "outputs": [],
   "source": []
  },
  {
   "cell_type": "code",
   "execution_count": null,
   "id": "fe2ea712",
   "metadata": {},
   "outputs": [],
   "source": []
  },
  {
   "cell_type": "code",
   "execution_count": null,
   "id": "a8fb531c",
   "metadata": {},
   "outputs": [],
   "source": []
  },
  {
   "cell_type": "code",
   "execution_count": null,
   "id": "7424cabf",
   "metadata": {},
   "outputs": [],
   "source": []
  },
  {
   "cell_type": "code",
   "execution_count": null,
   "id": "3ec5a4fd",
   "metadata": {},
   "outputs": [],
   "source": []
  },
  {
   "cell_type": "code",
   "execution_count": null,
   "id": "a215c185",
   "metadata": {},
   "outputs": [],
   "source": []
  }
 ],
 "metadata": {
  "kernelspec": {
   "display_name": "Python 3 (ipykernel)",
   "language": "python",
   "name": "python3"
  },
  "language_info": {
   "codemirror_mode": {
    "name": "ipython",
    "version": 3
   },
   "file_extension": ".py",
   "mimetype": "text/x-python",
   "name": "python",
   "nbconvert_exporter": "python",
   "pygments_lexer": "ipython3",
   "version": "3.9.13"
  }
 },
 "nbformat": 4,
 "nbformat_minor": 5
}
