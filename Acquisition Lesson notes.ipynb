{
 "cells": [
  {
   "cell_type": "markdown",
   "id": "d1e3cf47",
   "metadata": {},
   "source": [
    "## Acquisition:\n",
    "- Objectives:\n",
    "    - Find data\n",
    "    - Method\n",
    "    - Obtain Data\n",
    "    - construct means to acquire data programmatically"
   ]
  },
  {
   "cell_type": "code",
   "execution_count": 1,
   "id": "6e356c09",
   "metadata": {},
   "outputs": [],
   "source": [
    "# methods?\n",
    "\n",
    "import pandas as pd\n",
    "import numpy as np\n",
    "import matplotlib.pyplot as plt\n",
    "import seaborn as sns\n",
    "from pydataset import data"
   ]
  },
  {
   "cell_type": "code",
   "execution_count": null,
   "id": "318b925b",
   "metadata": {},
   "outputs": [],
   "source": [
    "# pd.read_csv('absolute path')\n",
    "# pd.read_csv('/Users/richardalcabes/Desktop/etc....')\n"
   ]
  },
  {
   "cell_type": "markdown",
   "id": "25d37098",
   "metadata": {},
   "source": [
    "## Takeaways:\n",
    "- to recreate workflow for others, operate on local file basis, rather than absolute path"
   ]
  },
  {
   "cell_type": "code",
   "execution_count": null,
   "id": "399b39b8",
   "metadata": {},
   "outputs": [],
   "source": [
    "# url = somethingsomething\n",
    "# pd.read_csv(url)"
   ]
  },
  {
   "cell_type": "code",
   "execution_count": null,
   "id": "76bf97dd",
   "metadata": {},
   "outputs": [],
   "source": [
    "# can use a link to google sheet also\n",
    "#"
   ]
  },
  {
   "cell_type": "code",
   "execution_count": null,
   "id": "3300e882",
   "metadata": {},
   "outputs": [],
   "source": [
    "# pd.read_clipboard() will read your clipboard under most conditions"
   ]
  },
  {
   "cell_type": "markdown",
   "id": "0a42ae07",
   "metadata": {},
   "source": [
    "## Notes:\n",
    "- read_clipboard is fragile, will return artificats/oddities if dat on clipboard is not simplified\n",
    "- raw text data will require extra manipulation html, regex, and other web scraping concepts"
   ]
  },
  {
   "cell_type": "code",
   "execution_count": null,
   "id": "a41e8afe",
   "metadata": {},
   "outputs": [],
   "source": []
  },
  {
   "cell_type": "code",
   "execution_count": 2,
   "id": "54f83993",
   "metadata": {},
   "outputs": [],
   "source": [
    "import env"
   ]
  },
  {
   "cell_type": "code",
   "execution_count": 5,
   "id": "ceabc1cc",
   "metadata": {},
   "outputs": [],
   "source": [
    "import env\n",
    "# [protocol]://[user]:[password]@[host]/[database_name]\n",
    "# mysql+pymysql://codeup:p@assw0rd@123.123.123.123/some_db\n",
    "# def get_db_url(u_name,pwd,h_name,db_name):\n",
    "#     url = f'mysql+pymysql://{u_name}:{pwd}@{h_name}/{db_name}'\n",
    "#     return url\n",
    "schema = 'employees'\n",
    "\n"
   ]
  },
  {
   "cell_type": "code",
   "execution_count": null,
   "id": "f4fd8e4d",
   "metadata": {},
   "outputs": [],
   "source": [
    "# Be sure to create README with instructions to replicate an env.py script\n",
    "# to allow user to access info"
   ]
  },
  {
   "cell_type": "code",
   "execution_count": 6,
   "id": "4960932d",
   "metadata": {},
   "outputs": [],
   "source": [
    "url = f'mysql+pymysql://{env.uname}:{env.pwd}@{env.host}/{schema}'"
   ]
  },
  {
   "cell_type": "code",
   "execution_count": null,
   "id": "a3ddf1b8",
   "metadata": {},
   "outputs": [],
   "source": [
    "query = 'SELECT * FROM employees LIMIT 20'"
   ]
  },
  {
   "cell_type": "code",
   "execution_count": null,
   "id": "08561226",
   "metadata": {},
   "outputs": [],
   "source": [
    "# def get_db_url(u=uname,p=pwd,h=host,db_name):\n",
    "#     return f'mysql+pymysql://{u_name}:{pwd}@{h_name}/{db_name}'\n",
    "    "
   ]
  },
  {
   "cell_type": "code",
   "execution_count": null,
   "id": "31f8c368",
   "metadata": {},
   "outputs": [],
   "source": [
    "# def get_db_url(u_name,pwd,h_name,schema):\n",
    "#     return f'mysql+pymysql://{u_name}:{pwd}@{h_name}/{schema}'"
   ]
  },
  {
   "cell_type": "code",
   "execution_count": null,
   "id": "87e44a4c",
   "metadata": {},
   "outputs": [],
   "source": [
    "emp_manager_df = pd.read_sql(query_emp_manager,env.get_db_url(env.uname,env.pwd,env.host,'employees'))\n",
    "emp_manager_df"
   ]
  },
  {
   "cell_type": "code",
   "execution_count": null,
   "id": "59c4632a",
   "metadata": {},
   "outputs": [],
   "source": []
  },
  {
   "cell_type": "code",
   "execution_count": null,
   "id": "80f177b2",
   "metadata": {},
   "outputs": [],
   "source": []
  },
  {
   "cell_type": "code",
   "execution_count": null,
   "id": "887fff9a",
   "metadata": {},
   "outputs": [],
   "source": []
  },
  {
   "cell_type": "code",
   "execution_count": null,
   "id": "145b0f80",
   "metadata": {},
   "outputs": [],
   "source": []
  },
  {
   "cell_type": "code",
   "execution_count": null,
   "id": "78492808",
   "metadata": {},
   "outputs": [],
   "source": []
  },
  {
   "cell_type": "code",
   "execution_count": null,
   "id": "babed247",
   "metadata": {},
   "outputs": [],
   "source": []
  },
  {
   "cell_type": "code",
   "execution_count": null,
   "id": "a8297e8c",
   "metadata": {},
   "outputs": [],
   "source": []
  },
  {
   "cell_type": "code",
   "execution_count": null,
   "id": "b22d9c69",
   "metadata": {},
   "outputs": [],
   "source": []
  }
 ],
 "metadata": {
  "kernelspec": {
   "display_name": "Python 3 (ipykernel)",
   "language": "python",
   "name": "python3"
  },
  "language_info": {
   "codemirror_mode": {
    "name": "ipython",
    "version": 3
   },
   "file_extension": ".py",
   "mimetype": "text/x-python",
   "name": "python",
   "nbconvert_exporter": "python",
   "pygments_lexer": "ipython3",
   "version": "3.9.13"
  }
 },
 "nbformat": 4,
 "nbformat_minor": 5
}
