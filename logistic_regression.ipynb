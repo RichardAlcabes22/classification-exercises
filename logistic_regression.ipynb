{
 "cells": [
  {
   "cell_type": "code",
   "execution_count": 1,
   "id": "faa6777c",
   "metadata": {},
   "outputs": [],
   "source": [
    "# DS Libraries\n",
    "import pandas as pd\n",
    "import numpy as np\n",
    "\n",
    "# Data visualization\n",
    "import matplotlib.pyplot as plt\n",
    "import seaborn as sns\n",
    "\n",
    "# knn submodules from scikit learn\n",
    "from sklearn.model_selection import train_test_split\n",
    "from sklearn.neighbors import KNeighborsClassifier\n",
    "from sklearn.metrics import classification_report, confusion_matrix, plot_confusion_matrix\n",
    "from sklearn.linear_model import LogisticRegression\n",
    "\n",
    "# Data Acquisition\n",
    "from pydataset import data\n",
    "import env\n",
    "import acquire as acq\n",
    "import prepare as prp"
   ]
  },
  {
   "cell_type": "code",
   "execution_count": 2,
   "id": "28d56fd1",
   "metadata": {},
   "outputs": [],
   "source": [
    "# 1 Fit a LogisticRegression classifier to the TRAIN data\n",
    "# load titanic via acquire.py\n",
    "df = acq.get_titanic_data('titanic_db')\n",
    "df = prp.prep_titanic(df)\n",
    "df.head()\n",
    "# Split dataset\n",
    "train, validate, test = prp.split_data(df,'survived')\n",
    "train.shape,validate.shape,test.shape\n",
    "#Determine drivers of target\n",
    "train.columns[:-2]\n",
    "cat_cols, num_cols = [], []\n",
    "for col in train.columns[:-2]:\n",
    "    if train[col].dtype == 'O':\n",
    "        cat_cols.append(col)\n",
    "    else:\n",
    "        if train[col].nunique() < 10:\n",
    "            cat_cols.append(col)\n",
    "        else:\n",
    "            num_cols.append(col)"
   ]
  },
  {
   "cell_type": "code",
   "execution_count": 3,
   "id": "dc4f45dc",
   "metadata": {},
   "outputs": [
    {
     "data": {
      "text/plain": [
       "(['survived',\n",
       "  'pclass',\n",
       "  'sex',\n",
       "  'sibsp',\n",
       "  'parch',\n",
       "  'embark_town',\n",
       "  'alone',\n",
       "  'sex_male'],\n",
       " ['age', 'fare'])"
      ]
     },
     "execution_count": 3,
     "metadata": {},
     "output_type": "execute_result"
    }
   ],
   "source": [
    "cat_cols,num_cols"
   ]
  },
  {
   "cell_type": "code",
   "execution_count": 4,
   "id": "2c80b9cc",
   "metadata": {},
   "outputs": [
    {
     "data": {
      "text/plain": [
       "0    307\n",
       "1    191\n",
       "Name: survived, dtype: int64"
      ]
     },
     "execution_count": 4,
     "metadata": {},
     "output_type": "execute_result"
    }
   ],
   "source": [
    "explore_cols = cat_cols + num_cols\n",
    "explore_cols\n",
    "train.survived.value_counts()"
   ]
  },
  {
   "cell_type": "code",
   "execution_count": 5,
   "id": "ae9188ac",
   "metadata": {},
   "outputs": [
    {
     "data": {
      "text/html": [
       "<div>\n",
       "<style scoped>\n",
       "    .dataframe tbody tr th:only-of-type {\n",
       "        vertical-align: middle;\n",
       "    }\n",
       "\n",
       "    .dataframe tbody tr th {\n",
       "        vertical-align: top;\n",
       "    }\n",
       "\n",
       "    .dataframe thead th {\n",
       "        text-align: right;\n",
       "    }\n",
       "</style>\n",
       "<table border=\"1\" class=\"dataframe\">\n",
       "  <thead>\n",
       "    <tr style=\"text-align: right;\">\n",
       "      <th>survived</th>\n",
       "      <th>0</th>\n",
       "      <th>1</th>\n",
       "    </tr>\n",
       "    <tr>\n",
       "      <th>baseline_pred</th>\n",
       "      <th></th>\n",
       "      <th></th>\n",
       "    </tr>\n",
       "  </thead>\n",
       "  <tbody>\n",
       "    <tr>\n",
       "      <th>0</th>\n",
       "      <td>307</td>\n",
       "      <td>191</td>\n",
       "    </tr>\n",
       "  </tbody>\n",
       "</table>\n",
       "</div>"
      ],
      "text/plain": [
       "survived         0    1\n",
       "baseline_pred          \n",
       "0              307  191"
      ]
     },
     "execution_count": 5,
     "metadata": {},
     "output_type": "execute_result"
    }
   ],
   "source": [
    "train['baseline_pred'] = 0\n",
    "train.head(10)\n",
    "pd.crosstab(train.baseline_pred,train.survived) "
   ]
  },
  {
   "cell_type": "code",
   "execution_count": 6,
   "id": "114c090e",
   "metadata": {},
   "outputs": [
    {
     "data": {
      "text/plain": [
       "0.6164658634538153"
      ]
     },
     "execution_count": 6,
     "metadata": {},
     "output_type": "execute_result"
    }
   ],
   "source": [
    "# Baseline ACCURACY is 61.6%  \n",
    "baseline_acc = (train.baseline_pred == train.survived).mean()\n",
    "baseline_acc"
   ]
  },
  {
   "cell_type": "markdown",
   "id": "b1d6eb50",
   "metadata": {},
   "source": [
    "### 1 Create a Model with Age,Fare, and pclass"
   ]
  },
  {
   "cell_type": "code",
   "execution_count": 7,
   "id": "d1cd26ac",
   "metadata": {},
   "outputs": [
    {
     "data": {
      "text/plain": [
       "['pclass', 'age', 'fare']"
      ]
     },
     "execution_count": 7,
     "metadata": {},
     "output_type": "execute_result"
    }
   ],
   "source": [
    "X_cols = train.columns.to_list()\n",
    "X_cols.remove('survived')\n",
    "X_cols.remove('baseline_pred')\n",
    "X_cols.remove('sex')\n",
    "X_cols.remove('sibsp')\n",
    "X_cols.remove('parch')\n",
    "X_cols.remove('embark_town')\n",
    "X_cols.remove('alone')\n",
    "X_cols.remove('embark_town_Queenstown')\n",
    "X_cols.remove('embark_town_Southampton')\n",
    "\n",
    "y_cols = 'survived'\n",
    "X_cols.remove('sex_male')\n",
    "X_cols"
   ]
  },
  {
   "cell_type": "code",
   "execution_count": 8,
   "id": "4fdb73d2",
   "metadata": {},
   "outputs": [
    {
     "name": "stdout",
     "output_type": "stream",
     "text": [
      "<class 'pandas.core.frame.DataFrame'>\n",
      "Int64Index: 498 entries, 542 to 522\n",
      "Data columns (total 13 columns):\n",
      " #   Column                   Non-Null Count  Dtype  \n",
      "---  ------                   --------------  -----  \n",
      " 0   survived                 498 non-null    int64  \n",
      " 1   pclass                   498 non-null    int64  \n",
      " 2   sex                      498 non-null    object \n",
      " 3   age                      498 non-null    float64\n",
      " 4   sibsp                    498 non-null    int64  \n",
      " 5   parch                    498 non-null    int64  \n",
      " 6   fare                     498 non-null    float64\n",
      " 7   embark_town              498 non-null    object \n",
      " 8   alone                    498 non-null    int64  \n",
      " 9   sex_male                 498 non-null    uint8  \n",
      " 10  embark_town_Queenstown   498 non-null    uint8  \n",
      " 11  embark_town_Southampton  498 non-null    uint8  \n",
      " 12  baseline_pred            498 non-null    int64  \n",
      "dtypes: float64(2), int64(6), object(2), uint8(3)\n",
      "memory usage: 44.3+ KB\n"
     ]
    }
   ],
   "source": [
    "train.info()"
   ]
  },
  {
   "cell_type": "code",
   "execution_count": 9,
   "id": "083776fc",
   "metadata": {},
   "outputs": [
    {
     "data": {
      "text/html": [
       "<div>\n",
       "<style scoped>\n",
       "    .dataframe tbody tr th:only-of-type {\n",
       "        vertical-align: middle;\n",
       "    }\n",
       "\n",
       "    .dataframe tbody tr th {\n",
       "        vertical-align: top;\n",
       "    }\n",
       "\n",
       "    .dataframe thead th {\n",
       "        text-align: right;\n",
       "    }\n",
       "</style>\n",
       "<table border=\"1\" class=\"dataframe\">\n",
       "  <thead>\n",
       "    <tr style=\"text-align: right;\">\n",
       "      <th></th>\n",
       "      <th>pclass</th>\n",
       "      <th>age</th>\n",
       "      <th>fare</th>\n",
       "    </tr>\n",
       "  </thead>\n",
       "  <tbody>\n",
       "    <tr>\n",
       "      <th>542</th>\n",
       "      <td>3</td>\n",
       "      <td>11.000000</td>\n",
       "      <td>31.2750</td>\n",
       "    </tr>\n",
       "    <tr>\n",
       "      <th>457</th>\n",
       "      <td>1</td>\n",
       "      <td>29.699118</td>\n",
       "      <td>51.8625</td>\n",
       "    </tr>\n",
       "    <tr>\n",
       "      <th>205</th>\n",
       "      <td>3</td>\n",
       "      <td>2.000000</td>\n",
       "      <td>10.4625</td>\n",
       "    </tr>\n",
       "    <tr>\n",
       "      <th>208</th>\n",
       "      <td>3</td>\n",
       "      <td>16.000000</td>\n",
       "      <td>7.7500</td>\n",
       "    </tr>\n",
       "    <tr>\n",
       "      <th>485</th>\n",
       "      <td>3</td>\n",
       "      <td>29.699118</td>\n",
       "      <td>25.4667</td>\n",
       "    </tr>\n",
       "  </tbody>\n",
       "</table>\n",
       "</div>"
      ],
      "text/plain": [
       "     pclass        age     fare\n",
       "542       3  11.000000  31.2750\n",
       "457       1  29.699118  51.8625\n",
       "205       3   2.000000  10.4625\n",
       "208       3  16.000000   7.7500\n",
       "485       3  29.699118  25.4667"
      ]
     },
     "execution_count": 9,
     "metadata": {},
     "output_type": "execute_result"
    }
   ],
   "source": [
    "X_train = train[X_cols]\n",
    "y_train = train['survived']\n",
    "\n",
    "X_validate = validate[X_cols]\n",
    "y_validate = validate['survived']\n",
    "\n",
    "X_test = test[X_cols]\n",
    "y_test = test['survived']\n",
    "\n",
    "X_train.head()"
   ]
  },
  {
   "cell_type": "code",
   "execution_count": 10,
   "id": "96e821fd",
   "metadata": {},
   "outputs": [],
   "source": [
    "logit = LogisticRegression(penalty='l2',solver='lbfgs')\n",
    "logit.fit(X_train,y_train)\n",
    "y_pred = logit.predict(X_train)"
   ]
  },
  {
   "cell_type": "code",
   "execution_count": 11,
   "id": "4df8a08b",
   "metadata": {},
   "outputs": [
    {
     "data": {
      "text/plain": [
       "array([0, 1, 0, 0, 0, 1, 1, 1, 0, 1, 0, 0, 0, 0, 0, 0, 1, 1, 1, 0, 1, 1,\n",
       "       0, 0, 0, 0, 0, 0, 1, 0, 0, 0, 0, 0, 1, 0, 0, 0, 1, 0, 0, 0, 0, 0,\n",
       "       0, 1, 0, 1, 1, 0, 0, 0, 0, 0, 0, 0, 0, 0, 0, 0, 0, 0, 0, 0, 0, 0,\n",
       "       0, 1, 0, 1, 0, 0, 1, 0, 0, 0, 0, 0, 0, 0, 0, 0, 0, 0, 0, 0, 0, 0,\n",
       "       1, 0, 0, 0, 0, 0, 0, 0, 1, 0, 0, 0, 0, 0, 0, 0, 1, 1, 0, 0, 0, 1,\n",
       "       0, 0, 0, 0, 0, 1, 1, 0, 0, 0, 0, 0, 1, 0, 0, 1, 0, 0, 1, 0, 0, 0,\n",
       "       0, 0, 1, 0, 0, 0, 0, 1, 0, 0, 0, 0, 0, 0, 1, 1, 0, 0, 0, 0, 0, 0,\n",
       "       0, 1, 0, 0, 1, 1, 1, 0, 0, 0, 0, 1, 0, 1, 0, 0, 0, 1, 0, 0, 0, 0,\n",
       "       0, 0, 0, 0, 1, 1, 0, 0, 0, 0, 0, 0, 0, 0, 1, 1, 0, 1, 1, 1, 0, 0,\n",
       "       0, 0, 1, 0, 0, 1, 0, 1, 0, 1, 0, 0, 0, 1, 1, 0, 0, 0, 0, 1, 1, 0,\n",
       "       1, 1, 0, 1, 0, 0, 0, 0, 1, 0, 0, 1, 0, 0, 0, 0, 1, 1, 0, 0, 0, 1,\n",
       "       1, 1, 0, 1, 0, 0, 0, 0, 0, 1, 0, 1, 0, 0, 1, 1, 0, 1, 1, 0, 1, 0,\n",
       "       0, 0, 0, 0, 0, 0, 1, 0, 0, 0, 0, 0, 1, 0, 0, 0, 0, 0, 0, 0, 0, 0,\n",
       "       0, 1, 0, 0, 0, 0, 0, 0, 0, 0, 1, 0, 0, 0, 1, 0, 0, 0, 0, 0, 0, 0,\n",
       "       1, 0, 1, 0, 0, 0, 1, 0, 0, 0, 0, 0, 1, 1, 0, 0, 0, 0, 0, 0, 0, 0,\n",
       "       1, 0, 0, 0, 1, 0, 0, 1, 1, 0, 1, 0, 0, 0, 1, 0, 0, 0, 0, 0, 0, 0,\n",
       "       1, 0, 0, 0, 0, 1, 0, 0, 0, 0, 0, 0, 0, 1, 0, 1, 0, 0, 0, 0, 0, 0,\n",
       "       0, 0, 0, 1, 0, 1, 0, 0, 0, 1, 0, 0, 0, 0, 0, 0, 0, 1, 0, 1, 1, 1,\n",
       "       0, 0, 0, 0, 0, 0, 0, 0, 0, 0, 1, 0, 0, 0, 0, 0, 1, 0, 0, 0, 0, 0,\n",
       "       1, 0, 0, 1, 0, 1, 0, 0, 0, 0, 0, 0, 0, 0, 1, 1, 1, 1, 0, 0, 1, 0,\n",
       "       1, 0, 0, 0, 0, 0, 1, 0, 0, 1, 1, 1, 0, 0, 0, 0, 1, 1, 0, 0, 0, 1,\n",
       "       1, 1, 0, 0, 0, 0, 0, 0, 0, 0, 0, 0, 0, 1, 0, 0, 0, 0, 1, 0, 0, 0,\n",
       "       0, 0, 0, 1, 0, 1, 1, 1, 0, 1, 1, 0, 0, 0])"
      ]
     },
     "execution_count": 11,
     "metadata": {},
     "output_type": "execute_result"
    }
   ],
   "source": [
    "y_pred"
   ]
  },
  {
   "cell_type": "code",
   "execution_count": 12,
   "id": "c79e6b81",
   "metadata": {},
   "outputs": [
    {
     "data": {
      "text/plain": [
       "0.7048192771084337"
      ]
     },
     "execution_count": 12,
     "metadata": {},
     "output_type": "execute_result"
    }
   ],
   "source": [
    "logit_score = logit.score(X_train,y_train)\n",
    "logit_score"
   ]
  },
  {
   "cell_type": "code",
   "execution_count": 13,
   "id": "7977c47d",
   "metadata": {},
   "outputs": [
    {
     "data": {
      "text/html": [
       "<div>\n",
       "<style scoped>\n",
       "    .dataframe tbody tr th:only-of-type {\n",
       "        vertical-align: middle;\n",
       "    }\n",
       "\n",
       "    .dataframe tbody tr th {\n",
       "        vertical-align: top;\n",
       "    }\n",
       "\n",
       "    .dataframe thead th {\n",
       "        text-align: right;\n",
       "    }\n",
       "</style>\n",
       "<table border=\"1\" class=\"dataframe\">\n",
       "  <thead>\n",
       "    <tr style=\"text-align: right;\">\n",
       "      <th>survived</th>\n",
       "      <th>0</th>\n",
       "      <th>1</th>\n",
       "    </tr>\n",
       "    <tr>\n",
       "      <th>row_0</th>\n",
       "      <th></th>\n",
       "      <th></th>\n",
       "    </tr>\n",
       "  </thead>\n",
       "  <tbody>\n",
       "    <tr>\n",
       "      <th>0</th>\n",
       "      <td>265</td>\n",
       "      <td>105</td>\n",
       "    </tr>\n",
       "    <tr>\n",
       "      <th>1</th>\n",
       "      <td>42</td>\n",
       "      <td>86</td>\n",
       "    </tr>\n",
       "  </tbody>\n",
       "</table>\n",
       "</div>"
      ],
      "text/plain": [
       "survived    0    1\n",
       "row_0             \n",
       "0         265  105\n",
       "1          42   86"
      ]
     },
     "execution_count": 13,
     "metadata": {},
     "output_type": "execute_result"
    }
   ],
   "source": [
    "pd.crosstab(y_pred,y_train) # see the actual survived status is now columns"
   ]
  },
  {
   "cell_type": "code",
   "execution_count": 14,
   "id": "e23e8e1e",
   "metadata": {},
   "outputs": [
    {
     "name": "stdout",
     "output_type": "stream",
     "text": [
      "              precision    recall  f1-score   support\n",
      "\n",
      "           0       0.72      0.86      0.78       307\n",
      "           1       0.67      0.45      0.54       191\n",
      "\n",
      "    accuracy                           0.70       498\n",
      "   macro avg       0.69      0.66      0.66       498\n",
      "weighted avg       0.70      0.70      0.69       498\n",
      "\n"
     ]
    }
   ],
   "source": [
    "print(classification_report(y_train,y_pred))"
   ]
  },
  {
   "cell_type": "code",
   "execution_count": 15,
   "id": "d854dcb2",
   "metadata": {},
   "outputs": [
    {
     "name": "stdout",
     "output_type": "stream",
     "text": [
      "\n",
      "Performance in accuracy of LOGIT on training data:\n",
      "Accuracy (train): 0.7048192771084337\n",
      "Accuracy (validate): 0.6963\n"
     ]
    }
   ],
   "source": [
    "print(f'''\n",
    "Performance in accuracy of LOGIT on training data:\n",
    "Accuracy (train): {logit.score(X_train, y_train)}\n",
    "Accuracy (validate): {round(logit.score(X_validate, y_validate), 4)}''')"
   ]
  },
  {
   "cell_type": "markdown",
   "id": "5baa8f7d",
   "metadata": {},
   "source": [
    "### 2 Create a Model with Age,Fare, and pclass and ADD Sex_Male"
   ]
  },
  {
   "cell_type": "code",
   "execution_count": 36,
   "id": "99513d6b",
   "metadata": {},
   "outputs": [
    {
     "data": {
      "text/plain": [
       "['pclass', 'age', 'fare', 'sex_male']"
      ]
     },
     "execution_count": 36,
     "metadata": {},
     "output_type": "execute_result"
    }
   ],
   "source": [
    "X_cols2 = train.columns.to_list()\n",
    "X_cols2.remove('survived')\n",
    "X_cols2.remove('baseline_pred')\n",
    "X_cols2.remove('sex')\n",
    "X_cols2.remove('sibsp')\n",
    "X_cols2.remove('parch')\n",
    "X_cols2.remove('embark_town')\n",
    "X_cols2.remove('alone')\n",
    "X_cols2.remove('embark_town_Queenstown')\n",
    "X_cols2.remove('embark_town_Southampton')\n",
    "y_cols = 'survived'\n",
    "X_cols2"
   ]
  },
  {
   "cell_type": "code",
   "execution_count": 17,
   "id": "9f0a7d6a",
   "metadata": {},
   "outputs": [
    {
     "data": {
      "text/html": [
       "<div>\n",
       "<style scoped>\n",
       "    .dataframe tbody tr th:only-of-type {\n",
       "        vertical-align: middle;\n",
       "    }\n",
       "\n",
       "    .dataframe tbody tr th {\n",
       "        vertical-align: top;\n",
       "    }\n",
       "\n",
       "    .dataframe thead th {\n",
       "        text-align: right;\n",
       "    }\n",
       "</style>\n",
       "<table border=\"1\" class=\"dataframe\">\n",
       "  <thead>\n",
       "    <tr style=\"text-align: right;\">\n",
       "      <th></th>\n",
       "      <th>pclass</th>\n",
       "      <th>age</th>\n",
       "      <th>fare</th>\n",
       "      <th>sex_male</th>\n",
       "    </tr>\n",
       "  </thead>\n",
       "  <tbody>\n",
       "    <tr>\n",
       "      <th>542</th>\n",
       "      <td>3</td>\n",
       "      <td>11.000000</td>\n",
       "      <td>31.2750</td>\n",
       "      <td>0</td>\n",
       "    </tr>\n",
       "    <tr>\n",
       "      <th>457</th>\n",
       "      <td>1</td>\n",
       "      <td>29.699118</td>\n",
       "      <td>51.8625</td>\n",
       "      <td>0</td>\n",
       "    </tr>\n",
       "    <tr>\n",
       "      <th>205</th>\n",
       "      <td>3</td>\n",
       "      <td>2.000000</td>\n",
       "      <td>10.4625</td>\n",
       "      <td>0</td>\n",
       "    </tr>\n",
       "    <tr>\n",
       "      <th>208</th>\n",
       "      <td>3</td>\n",
       "      <td>16.000000</td>\n",
       "      <td>7.7500</td>\n",
       "      <td>0</td>\n",
       "    </tr>\n",
       "    <tr>\n",
       "      <th>485</th>\n",
       "      <td>3</td>\n",
       "      <td>29.699118</td>\n",
       "      <td>25.4667</td>\n",
       "      <td>0</td>\n",
       "    </tr>\n",
       "  </tbody>\n",
       "</table>\n",
       "</div>"
      ],
      "text/plain": [
       "     pclass        age     fare  sex_male\n",
       "542       3  11.000000  31.2750         0\n",
       "457       1  29.699118  51.8625         0\n",
       "205       3   2.000000  10.4625         0\n",
       "208       3  16.000000   7.7500         0\n",
       "485       3  29.699118  25.4667         0"
      ]
     },
     "execution_count": 17,
     "metadata": {},
     "output_type": "execute_result"
    }
   ],
   "source": [
    "X_train = train[X_cols2]\n",
    "y_train = train['survived']\n",
    "\n",
    "X_validate = validate[X_cols2]\n",
    "y_validate = validate['survived']\n",
    "\n",
    "X_test = test[X_cols2]\n",
    "y_test = test['survived']\n",
    "\n",
    "X_train.head()"
   ]
  },
  {
   "cell_type": "code",
   "execution_count": 18,
   "id": "111421b9",
   "metadata": {},
   "outputs": [],
   "source": [
    "logit2 = LogisticRegression(penalty='l2',solver='lbfgs')\n",
    "logit2.fit(X_train,y_train)\n",
    "y_pred = logit2.predict(X_train)"
   ]
  },
  {
   "cell_type": "code",
   "execution_count": 19,
   "id": "19695685",
   "metadata": {},
   "outputs": [
    {
     "data": {
      "text/plain": [
       "0.7971887550200804"
      ]
     },
     "execution_count": 19,
     "metadata": {},
     "output_type": "execute_result"
    }
   ],
   "source": [
    "logit_score2 = logit2.score(X_train,y_train)\n",
    "logit_score2"
   ]
  },
  {
   "cell_type": "code",
   "execution_count": 20,
   "id": "de3a660e",
   "metadata": {},
   "outputs": [
    {
     "data": {
      "text/html": [
       "<div>\n",
       "<style scoped>\n",
       "    .dataframe tbody tr th:only-of-type {\n",
       "        vertical-align: middle;\n",
       "    }\n",
       "\n",
       "    .dataframe tbody tr th {\n",
       "        vertical-align: top;\n",
       "    }\n",
       "\n",
       "    .dataframe thead th {\n",
       "        text-align: right;\n",
       "    }\n",
       "</style>\n",
       "<table border=\"1\" class=\"dataframe\">\n",
       "  <thead>\n",
       "    <tr style=\"text-align: right;\">\n",
       "      <th>survived</th>\n",
       "      <th>0</th>\n",
       "      <th>1</th>\n",
       "    </tr>\n",
       "    <tr>\n",
       "      <th>row_0</th>\n",
       "      <th></th>\n",
       "      <th></th>\n",
       "    </tr>\n",
       "  </thead>\n",
       "  <tbody>\n",
       "    <tr>\n",
       "      <th>0</th>\n",
       "      <td>259</td>\n",
       "      <td>53</td>\n",
       "    </tr>\n",
       "    <tr>\n",
       "      <th>1</th>\n",
       "      <td>48</td>\n",
       "      <td>138</td>\n",
       "    </tr>\n",
       "  </tbody>\n",
       "</table>\n",
       "</div>"
      ],
      "text/plain": [
       "survived    0    1\n",
       "row_0             \n",
       "0         259   53\n",
       "1          48  138"
      ]
     },
     "execution_count": 20,
     "metadata": {},
     "output_type": "execute_result"
    }
   ],
   "source": [
    "pd.crosstab(y_pred,y_train) # see the actual survived status is now columns"
   ]
  },
  {
   "cell_type": "code",
   "execution_count": 21,
   "id": "6a82df18",
   "metadata": {},
   "outputs": [
    {
     "name": "stdout",
     "output_type": "stream",
     "text": [
      "              precision    recall  f1-score   support\n",
      "\n",
      "           0       0.83      0.84      0.84       307\n",
      "           1       0.74      0.72      0.73       191\n",
      "\n",
      "    accuracy                           0.80       498\n",
      "   macro avg       0.79      0.78      0.78       498\n",
      "weighted avg       0.80      0.80      0.80       498\n",
      "\n"
     ]
    }
   ],
   "source": [
    "print(classification_report(y_train,y_pred))"
   ]
  },
  {
   "cell_type": "code",
   "execution_count": 22,
   "id": "766bceff",
   "metadata": {
    "scrolled": true
   },
   "outputs": [
    {
     "name": "stdout",
     "output_type": "stream",
     "text": [
      "\n",
      "Performance in accuracy of LOGIT2 on training data:\n",
      "Accuracy (train): 0.7971887550200804\n",
      "Accuracy (validate): 0.757\n"
     ]
    }
   ],
   "source": [
    "print(f'''\n",
    "Performance in accuracy of LOGIT2 on training data:\n",
    "Accuracy (train): {logit2.score(X_train, y_train)}\n",
    "Accuracy (validate): {round(logit2.score(X_validate, y_validate), 4)}''')"
   ]
  },
  {
   "cell_type": "markdown",
   "id": "671353c6",
   "metadata": {},
   "source": [
    "### 3 Try other combos of Features and Models: will add col 'alone'"
   ]
  },
  {
   "cell_type": "code",
   "execution_count": 23,
   "id": "a1dbb23c",
   "metadata": {},
   "outputs": [
    {
     "data": {
      "text/plain": [
       "['pclass', 'age', 'fare', 'alone', 'sex_male']"
      ]
     },
     "execution_count": 23,
     "metadata": {},
     "output_type": "execute_result"
    }
   ],
   "source": [
    "X_cols3 = train.columns.to_list()\n",
    "X_cols3.remove('survived')\n",
    "X_cols3.remove('baseline_pred')\n",
    "X_cols3.remove('sex')\n",
    "X_cols3.remove('sibsp')\n",
    "X_cols3.remove('parch')\n",
    "X_cols3.remove('embark_town')\n",
    "X_cols3.remove('embark_town_Queenstown')\n",
    "X_cols3.remove('embark_town_Southampton')\n",
    "y_cols = 'survived'\n",
    "X_cols3"
   ]
  },
  {
   "cell_type": "code",
   "execution_count": 24,
   "id": "8f7e6605",
   "metadata": {},
   "outputs": [
    {
     "data": {
      "text/html": [
       "<div>\n",
       "<style scoped>\n",
       "    .dataframe tbody tr th:only-of-type {\n",
       "        vertical-align: middle;\n",
       "    }\n",
       "\n",
       "    .dataframe tbody tr th {\n",
       "        vertical-align: top;\n",
       "    }\n",
       "\n",
       "    .dataframe thead th {\n",
       "        text-align: right;\n",
       "    }\n",
       "</style>\n",
       "<table border=\"1\" class=\"dataframe\">\n",
       "  <thead>\n",
       "    <tr style=\"text-align: right;\">\n",
       "      <th></th>\n",
       "      <th>pclass</th>\n",
       "      <th>age</th>\n",
       "      <th>fare</th>\n",
       "      <th>alone</th>\n",
       "      <th>sex_male</th>\n",
       "    </tr>\n",
       "  </thead>\n",
       "  <tbody>\n",
       "    <tr>\n",
       "      <th>542</th>\n",
       "      <td>3</td>\n",
       "      <td>11.000000</td>\n",
       "      <td>31.2750</td>\n",
       "      <td>0</td>\n",
       "      <td>0</td>\n",
       "    </tr>\n",
       "    <tr>\n",
       "      <th>457</th>\n",
       "      <td>1</td>\n",
       "      <td>29.699118</td>\n",
       "      <td>51.8625</td>\n",
       "      <td>0</td>\n",
       "      <td>0</td>\n",
       "    </tr>\n",
       "    <tr>\n",
       "      <th>205</th>\n",
       "      <td>3</td>\n",
       "      <td>2.000000</td>\n",
       "      <td>10.4625</td>\n",
       "      <td>0</td>\n",
       "      <td>0</td>\n",
       "    </tr>\n",
       "    <tr>\n",
       "      <th>208</th>\n",
       "      <td>3</td>\n",
       "      <td>16.000000</td>\n",
       "      <td>7.7500</td>\n",
       "      <td>1</td>\n",
       "      <td>0</td>\n",
       "    </tr>\n",
       "    <tr>\n",
       "      <th>485</th>\n",
       "      <td>3</td>\n",
       "      <td>29.699118</td>\n",
       "      <td>25.4667</td>\n",
       "      <td>0</td>\n",
       "      <td>0</td>\n",
       "    </tr>\n",
       "  </tbody>\n",
       "</table>\n",
       "</div>"
      ],
      "text/plain": [
       "     pclass        age     fare  alone  sex_male\n",
       "542       3  11.000000  31.2750      0         0\n",
       "457       1  29.699118  51.8625      0         0\n",
       "205       3   2.000000  10.4625      0         0\n",
       "208       3  16.000000   7.7500      1         0\n",
       "485       3  29.699118  25.4667      0         0"
      ]
     },
     "execution_count": 24,
     "metadata": {},
     "output_type": "execute_result"
    }
   ],
   "source": [
    "X_train = train[X_cols3]\n",
    "y_train = train['survived']\n",
    "\n",
    "X_validate = validate[X_cols3]\n",
    "y_validate = validate['survived']\n",
    "\n",
    "X_test = test[X_cols3]\n",
    "y_test = test['survived']\n",
    "\n",
    "X_train.head()"
   ]
  },
  {
   "cell_type": "code",
   "execution_count": 25,
   "id": "e1877218",
   "metadata": {},
   "outputs": [],
   "source": [
    "logit3 = LogisticRegression(penalty='l2',solver='lbfgs')\n",
    "logit3.fit(X_train,y_train)\n",
    "y_pred = logit3.predict(X_train)"
   ]
  },
  {
   "cell_type": "code",
   "execution_count": 26,
   "id": "ffcb001d",
   "metadata": {},
   "outputs": [
    {
     "data": {
      "text/plain": [
       "0.7951807228915663"
      ]
     },
     "execution_count": 26,
     "metadata": {},
     "output_type": "execute_result"
    }
   ],
   "source": [
    "logit3_score3 = logit3.score(X_train,y_train)\n",
    "logit3_score3"
   ]
  },
  {
   "cell_type": "code",
   "execution_count": 27,
   "id": "876f6b2d",
   "metadata": {},
   "outputs": [
    {
     "data": {
      "text/html": [
       "<div>\n",
       "<style scoped>\n",
       "    .dataframe tbody tr th:only-of-type {\n",
       "        vertical-align: middle;\n",
       "    }\n",
       "\n",
       "    .dataframe tbody tr th {\n",
       "        vertical-align: top;\n",
       "    }\n",
       "\n",
       "    .dataframe thead th {\n",
       "        text-align: right;\n",
       "    }\n",
       "</style>\n",
       "<table border=\"1\" class=\"dataframe\">\n",
       "  <thead>\n",
       "    <tr style=\"text-align: right;\">\n",
       "      <th>survived</th>\n",
       "      <th>0</th>\n",
       "      <th>1</th>\n",
       "    </tr>\n",
       "    <tr>\n",
       "      <th>row_0</th>\n",
       "      <th></th>\n",
       "      <th></th>\n",
       "    </tr>\n",
       "  </thead>\n",
       "  <tbody>\n",
       "    <tr>\n",
       "      <th>0</th>\n",
       "      <td>256</td>\n",
       "      <td>51</td>\n",
       "    </tr>\n",
       "    <tr>\n",
       "      <th>1</th>\n",
       "      <td>51</td>\n",
       "      <td>140</td>\n",
       "    </tr>\n",
       "  </tbody>\n",
       "</table>\n",
       "</div>"
      ],
      "text/plain": [
       "survived    0    1\n",
       "row_0             \n",
       "0         256   51\n",
       "1          51  140"
      ]
     },
     "execution_count": 27,
     "metadata": {},
     "output_type": "execute_result"
    }
   ],
   "source": [
    "pd.crosstab(y_pred,y_train) # see the actual survived status is now columns"
   ]
  },
  {
   "cell_type": "code",
   "execution_count": 28,
   "id": "daca3cc7",
   "metadata": {
    "scrolled": true
   },
   "outputs": [
    {
     "name": "stdout",
     "output_type": "stream",
     "text": [
      "              precision    recall  f1-score   support\n",
      "\n",
      "           0       0.83      0.83      0.83       307\n",
      "           1       0.73      0.73      0.73       191\n",
      "\n",
      "    accuracy                           0.80       498\n",
      "   macro avg       0.78      0.78      0.78       498\n",
      "weighted avg       0.80      0.80      0.80       498\n",
      "\n"
     ]
    }
   ],
   "source": [
    "print(classification_report(y_train,y_pred))"
   ]
  },
  {
   "cell_type": "code",
   "execution_count": 29,
   "id": "d5ced7b2",
   "metadata": {
    "scrolled": true
   },
   "outputs": [
    {
     "name": "stdout",
     "output_type": "stream",
     "text": [
      "\n",
      "Performance in accuracy of LOGIT3 on training data:\n",
      "Accuracy (train): 0.7951807228915663\n",
      "Accuracy (validate): 0.7523\n"
     ]
    }
   ],
   "source": [
    "print(f'''\n",
    "Performance in accuracy of LOGIT3 on training data:\n",
    "Accuracy (train): {logit3.score(X_train, y_train)}\n",
    "Accuracy (validate): {round(logit3.score(X_validate, y_validate), 4)}''')"
   ]
  },
  {
   "cell_type": "code",
   "execution_count": null,
   "id": "cafabe41",
   "metadata": {},
   "outputs": [],
   "source": []
  },
  {
   "cell_type": "code",
   "execution_count": null,
   "id": "3dd536c4",
   "metadata": {},
   "outputs": [],
   "source": []
  },
  {
   "cell_type": "markdown",
   "id": "af822b44",
   "metadata": {},
   "source": [
    "### 4 EVALUATE TOP 3 on Validate"
   ]
  },
  {
   "cell_type": "code",
   "execution_count": 32,
   "id": "75429204",
   "metadata": {},
   "outputs": [
    {
     "name": "stdout",
     "output_type": "stream",
     "text": [
      "\n",
      "Performance in accuracy of LOGIT on training data:\n",
      "Accuracy (train): 0.7048192771084337\n",
      "Accuracy (validate): 0.6963\n"
     ]
    }
   ],
   "source": [
    "X_train = train[X_cols]\n",
    "y_train = train['survived']\n",
    "\n",
    "X_validate = validate[X_cols]\n",
    "y_validate = validate['survived']\n",
    "\n",
    "X_test = test[X_cols]\n",
    "y_test = test['survived']\n",
    "\n",
    "print(f'''\n",
    "Performance in accuracy of LOGIT on training data:\n",
    "Accuracy (train): {logit.score(X_train, y_train)}\n",
    "Accuracy (validate): {round(logit.score(X_validate, y_validate), 4)}''')"
   ]
  },
  {
   "cell_type": "code",
   "execution_count": 37,
   "id": "323b0281",
   "metadata": {
    "scrolled": true
   },
   "outputs": [
    {
     "name": "stdout",
     "output_type": "stream",
     "text": [
      "\n",
      "Performance in accuracy of LOGIT2 on training data:\n",
      "Accuracy (train): 0.7971887550200804\n",
      "Accuracy (validate): 0.757\n"
     ]
    }
   ],
   "source": [
    "X_train = train[X_cols2]\n",
    "y_train = train['survived']\n",
    "\n",
    "X_validate = validate[X_cols2]\n",
    "y_validate = validate['survived']\n",
    "\n",
    "X_test = test[X_cols2]\n",
    "y_test = test['survived']\n",
    "\n",
    "print(f'''\n",
    "Performance in accuracy of LOGIT2 on training data:\n",
    "Accuracy (train): {logit2.score(X_train, y_train)}\n",
    "Accuracy (validate): {round(logit2.score(X_validate, y_validate), 4)}''')"
   ]
  },
  {
   "cell_type": "code",
   "execution_count": 38,
   "id": "2b6503f3",
   "metadata": {
    "scrolled": true
   },
   "outputs": [
    {
     "name": "stdout",
     "output_type": "stream",
     "text": [
      "\n",
      "Performance in accuracy of LOGIT3 on training data:\n",
      "Accuracy (train): 0.7951807228915663\n",
      "Accuracy (validate): 0.7523\n"
     ]
    }
   ],
   "source": [
    "X_train = train[X_cols3]\n",
    "y_train = train['survived']\n",
    "\n",
    "X_validate = validate[X_cols3]\n",
    "y_validate = validate['survived']\n",
    "\n",
    "X_test = test[X_cols3]\n",
    "y_test = test['survived']\n",
    "\n",
    "print(f'''\n",
    "Performance in accuracy of LOGIT3 on training data:\n",
    "Accuracy (train): {logit3.score(X_train, y_train)}\n",
    "Accuracy (validate): {round(logit3.score(X_validate, y_validate), 4)}''')"
   ]
  },
  {
   "cell_type": "code",
   "execution_count": null,
   "id": "d0e1f998",
   "metadata": {},
   "outputs": [],
   "source": []
  },
  {
   "cell_type": "markdown",
   "id": "6e374525",
   "metadata": {},
   "source": [
    "### 5 EVALUATE BEST on TEST ... Logit 1 has the least drop-off from Train to Validate, However, even with the slight overfit of LOGIT 3, it has the highest VALIDATE accuracy score of the three options."
   ]
  },
  {
   "cell_type": "code",
   "execution_count": 42,
   "id": "32615120",
   "metadata": {},
   "outputs": [
    {
     "name": "stdout",
     "output_type": "stream",
     "text": [
      "\n",
      "Performance in accuracy of LOGIT3 on training and test data:\n",
      "Accuracy (train): 0.7951807228915663\n",
      "Accuracy (validate): 0.7523\n",
      "Accuracy (TEST): 0.8045\n"
     ]
    }
   ],
   "source": [
    "print(f'''\n",
    "Performance in accuracy of LOGIT3 on training and test data:\n",
    "Accuracy (train): {logit3.score(X_train, y_train)}\n",
    "Accuracy (validate): {round(logit3.score(X_validate, y_validate), 4)}\n",
    "Accuracy (TEST): {round(logit3.score(X_test, y_test), 4)}''')"
   ]
  },
  {
   "cell_type": "code",
   "execution_count": 40,
   "id": "e6e8bfd4",
   "metadata": {},
   "outputs": [],
   "source": [
    "# Test accuracy score similar to train"
   ]
  },
  {
   "cell_type": "code",
   "execution_count": null,
   "id": "d22c32d6",
   "metadata": {},
   "outputs": [],
   "source": []
  },
  {
   "cell_type": "code",
   "execution_count": null,
   "id": "bb15c883",
   "metadata": {},
   "outputs": [],
   "source": []
  },
  {
   "cell_type": "code",
   "execution_count": null,
   "id": "49315389",
   "metadata": {},
   "outputs": [],
   "source": []
  },
  {
   "cell_type": "code",
   "execution_count": null,
   "id": "9b9dc2c5",
   "metadata": {},
   "outputs": [],
   "source": []
  },
  {
   "cell_type": "code",
   "execution_count": null,
   "id": "b179c307",
   "metadata": {},
   "outputs": [],
   "source": []
  },
  {
   "cell_type": "code",
   "execution_count": null,
   "id": "abb44e9d",
   "metadata": {},
   "outputs": [],
   "source": []
  }
 ],
 "metadata": {
  "kernelspec": {
   "display_name": "Python 3 (ipykernel)",
   "language": "python",
   "name": "python3"
  },
  "language_info": {
   "codemirror_mode": {
    "name": "ipython",
    "version": 3
   },
   "file_extension": ".py",
   "mimetype": "text/x-python",
   "name": "python",
   "nbconvert_exporter": "python",
   "pygments_lexer": "ipython3",
   "version": "3.9.13"
  }
 },
 "nbformat": 4,
 "nbformat_minor": 5
}
